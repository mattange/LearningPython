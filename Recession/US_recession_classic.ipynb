{
 "cells": [
  {
   "cell_type": "code",
   "execution_count": 1,
   "id": "e461af0f-86fa-4c23-9eca-9d036d888f3b",
   "metadata": {},
   "outputs": [],
   "source": [
    "%matplotlib widget"
   ]
  },
  {
   "cell_type": "code",
   "execution_count": 2,
   "id": "7407d06f-9375-4b1e-8c31-32d5207a8936",
   "metadata": {},
   "outputs": [],
   "source": [
    "import pandas as pd\n",
    "import seaborn as sns\n",
    "from fredapi import Fred as FredApi\n",
    "\n",
    "fred = FredApi(api_key='0dfcbb403eea7fee006f01e935be9216')"
   ]
  },
  {
   "cell_type": "code",
   "execution_count": 8,
   "id": "5325e3f9-8b79-4e82-89ba-7be582be5ec4",
   "metadata": {},
   "outputs": [],
   "source": [
    "# load datasets from FRED\n",
    "usrec = fred.get_series_latest_release('USREC')\n",
    "us10 = fred.get_series_latest_release('DGS10')\n",
    "us2 = fred.get_series_latest_release('DGS2')\n",
    "ff = fred.get_series_latest_release('FEDFUNDS')\n",
    "pcecore = fred.get_series_latest_release('PCEPILFE')\n",
    "claims = fred.get_series_latest_release('IC4WSA')"
   ]
  },
  {
   "cell_type": "code",
   "execution_count": 9,
   "id": "223a129f-7f6e-4d9c-80b5-d30031a00c83",
   "metadata": {},
   "outputs": [],
   "source": [
    "# now do monthly averages of the series above\n",
    "usrec_q = usrec.resample('Q').mean()\n",
    "us10_q = us10.resample('Q').mean()\n",
    "us2_q = us2.resample('Q').mean()\n",
    "ff_q = ff.resample('Q').mean()\n",
    "# the \n",
    "pcecore_q = pcecore.pct_change(periods=12).resample('Q').mean()\n",
    "claims_q = claims.resample('W').last().pct_change(periods=52).resample('Q').mean()"
   ]
  }
 ],
 "metadata": {
  "kernelspec": {
   "display_name": "Python 3 (ipykernel)",
   "language": "python",
   "name": "python3"
  },
  "language_info": {
   "codemirror_mode": {
    "name": "ipython",
    "version": 3
   },
   "file_extension": ".py",
   "mimetype": "text/x-python",
   "name": "python",
   "nbconvert_exporter": "python",
   "pygments_lexer": "ipython3",
   "version": "3.11.6"
  }
 },
 "nbformat": 4,
 "nbformat_minor": 5
}
