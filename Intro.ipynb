{
 "cells": [
  {
   "cell_type": "markdown",
   "id": "3f00667b-ecbd-4b07-ab8a-f0f1a864fdb8",
   "metadata": {},
   "source": [
    "# Introduction for my beautiful wife Silvia\n",
    "\n",
    "## I love you\n",
    "- That's the most important thing to learn out of this course\n",
    "- I am grumpy but I want to be helpful and make things (and people) together\n",
    "\n",
    "## Python in VERY few lines\n",
    "- Like every language, Python has means to **control what the flow of the code is**: *some words or symbols that tell what to do on what else*\n",
    "    - there are control statements (if... else ...) or loops (for / while)\n",
    "    - there are assignment operators (\"=\" sign)\n",
    "    - there are ways to define functions and complex objects (classes)\n",
    "        - a function is a way to define some operation that takes inputs (of whatever type) and produce an output (of whatever type). You then apply that function as many times as you like\n",
    "        - a class is a way to define new object categories (or... object classes): you then create that object as many times as you like and each object instance will be a different object\n",
    "    - there are ways to \"write it\": some grammar rules, so to speak. Things you can and cannot do in writing it. But we can learn by doing them.\n",
    "- Python is an **object-oriented** language\n",
    "    - every \"container of information\" is an object of some type, regardless of the complexity of the information\n",
    "    - objects have \"properties\" and \"methods\":\n",
    "        - properties generally \"describe\" the object or \"show ... properties\" of it; \n",
    "        - methods \"act\" on the object (with or without the help of other objects)\n",
    "- **In Python never try to reinvent the wheel**. If some operation / some thing you want to do that is general enough sounds like it should already exist... it probably does. Either directly or via libraries of functions and classes.\n",
    "\n",
    "## Jupyter (or Jupyter Notebook, or Jupyter Lab...)\n",
    "- Jupyter is a tool to interact with a Python *engine*\n",
    "- That is pretty much what you need to know...\n",
    "- In Jupyter you can mix text (written in **markdown**) with actual Python code that *does stuff*\n",
    "- The code does **not** necessarily run on the machine you are using Jupyter on (it may). In the case of our home installation at jupyterhub.rocketmacro.com, Python is actually running on a virtual machine in the home server: Jupyter is just sending the Python code via web to a server that runs Python and returns/displays the results\n",
    "- Jupyter is organised around a concept called a **cell**; there are fundamentally 2 important cell types:\n",
    "    - a \"markdown\" cell where you just put text in... markdown: your notes / explanations / trains of thoughts\n",
    "    - a \"code\" cell where you write Python code\n",
    "        - the last line in a cell may show the output just under it\n",
    "    - as Jupyter allows to you to interact with Python, it has some \"special keywords\" that are called \"magic commands\". Those are only valid in \"code\" cells but they are technically not Python code. They start with the \"%\" sign\n",
    "- All cells need to be \"executed\" at least once so that either the markdown text or the code is \"processed\"\n",
    "    - There are keyboard shortcuts to execute cells\n",
    "    - If you modify a cell that passes on content to a following one, you will likely need to re-execute all the following cells.\n",
    "\n",
    "## All you need to know about Python before doing stuff\n",
    "- assign a variable\n",
    "    - as everything in Python is an object, generally copying a *complex* variable does NOT copy the entire content, rather the pointer to the area of memory that holds the content. It is generally more efficient to do so, but this Python feature can have subtle consequences that can only be learnt by some practice. No stress.\n",
    "- import a library with useful functions and do something with the variables you defined and assign the result to other variables\n",
    "- use or create other functions\n",
    "    - charts are after all a function that takes in arguments (e.g. numbers / categories of labels) and spits out \"something\" (a chart)\n",
    "    \n",
    "## How do you go about a problem?\n",
    "- Decompose the problem in very simple elemental steps\n",
    "    - \"put down the logic first\"\n",
    "- Think hard (but don't spend a day) if an \"action\" can be decomposed further.\n",
    "    - if answer is NO, probably you can use a function in some library\n",
    "    - if YES, go back and decompose further first\n",
    "- Especially in Jupyter, it's very easy to decompose in steps and write down the steps in \"markdown\" cells"
   ]
  },
  {
   "cell_type": "markdown",
   "id": "2fdf1ab0-6561-4da8-adb6-fcd96604784e",
   "metadata": {},
   "source": [
    "# Some VERY SIMPLE examples based on the above"
   ]
  },
  {
   "cell_type": "markdown",
   "id": "8e2af454-ea6b-4db5-be53-657b8e698769",
   "metadata": {},
   "source": [
    "1) assign a simple variable: now the variable called \"a\" *contains* the value 3.\n",
    "    - the cell below this one is a \"code\" cell. So far I have used \"markdown\" cells"
   ]
  },
  {
   "cell_type": "code",
   "execution_count": 2,
   "id": "4b25a008-e011-4c9e-818e-7fcd081ddb5d",
   "metadata": {},
   "outputs": [],
   "source": [
    "a = 3."
   ]
  },
  {
   "cell_type": "markdown",
   "id": "0df90e8c-47ac-4954-8da0-64066f75cad4",
   "metadata": {},
   "source": [
    "2) now let's explore some properties and/or methods of the object which is represented by the variable called \"a\". \"a\" is a *floating point number* as it was defined as a floating point number (\"3.\" rather than \"3\"). But Python for instance can tell if it is an integer number equivalent, for instance (if you cared to know and you did not know). And a method on the object represented by \"a\" returns a value that tells you True or False...\n",
    "    - I first assign the result of a method to another variable called \"a_is_integer\"\n",
    "    - Then I \"state\" that variable: Python just prints the value of it (does not work all the time... depends on the variable)"
   ]
  },
  {
   "cell_type": "code",
   "execution_count": 3,
   "id": "b62c6af0-6e7d-46c6-9182-dcbfb7067c3d",
   "metadata": {},
   "outputs": [
    {
     "data": {
      "text/plain": [
       "True"
      ]
     },
     "execution_count": 3,
     "metadata": {},
     "output_type": "execute_result"
    }
   ],
   "source": [
    "a_is_integer = a.is_integer()\n",
    "a_is_integer"
   ]
  },
  {
   "cell_type": "markdown",
   "id": "755e887a-6cb9-44dc-9e29-1cee4d75083e",
   "metadata": {},
   "source": [
    "3) let's assign a string (word or sentence) to another variable and apply some methods to get other values out of the first value assigned to the variable...\n",
    "    - note the use of methods on the objects that return some value based on the object that launches them\n",
    "    - note that i am using a \"+\" sign on non-numbers (not always possible but it works intuitively here)\n",
    "    - note that i am putting a comment in the code with a # in front of the line\n",
    "    - note that i am using a function to print out the values of stuff (the function \"returns\" the printed value: takes in something and spits out a printout of that something"
   ]
  },
  {
   "cell_type": "code",
   "execution_count": 4,
   "id": "b701e4ca-7dde-4a36-aac7-4def4ee1890a",
   "metadata": {},
   "outputs": [
    {
     "name": "stdout",
     "output_type": "stream",
     "text": [
      "beatrice\n",
      "BEATRICE\n",
      "Beatrice\n",
      "beatrice angeloni\n",
      "Beatrice Angeloni\n"
     ]
    }
   ],
   "source": [
    "nome_a_caso = \"beatrice\"\n",
    "big_letters = nome_a_caso.upper()\n",
    "cammello = nome_a_caso.title()\n",
    "nome_cognome = nome_a_caso + \" \" + \"angeloni\"\n",
    "cammello2 = nome_cognome.title()\n",
    "# Now print out values of variables in sequence\n",
    "print(nome_a_caso)\n",
    "print(big_letters)\n",
    "print(cammello)\n",
    "print(nome_cognome)\n",
    "print(cammello2)"
   ]
  },
  {
   "cell_type": "markdown",
   "id": "ee99a72d-96f5-42aa-8d74-cd4b3653753d",
   "metadata": {},
   "source": [
    "Cool no?\n",
    "\n",
    "# Let's import some useful libraries\n",
    "\n",
    "Now we try to import some libraries which contain useful functions. We start with one that handles arrays (series or matrices of N dimensions) and then one that elaborates on that to have something even more useful. We also rename them so that we can be faster at accessing them\n",
    "- In *this* notebook we have then access to all the functions and objects they define after we have *imported them*\n",
    "- These things come with practice. Do **NOT despair**\n",
    "- The way to import things is always the same at its core but different libraries take slightly different approaches. Do **NOT despair**\n",
    "\n",
    "## Numpy: arrays / matrices\n",
    "\n",
    "Numpy is a library and provides access to functions to create arrays for instance...\n",
    "note the arrays have shapes and you can access items with indices: *remember* indices start at 0!\n"
   ]
  },
  {
   "cell_type": "code",
   "execution_count": 5,
   "id": "1036bcba-5a3c-43ec-b089-1ae87f39074e",
   "metadata": {},
   "outputs": [
    {
     "name": "stdout",
     "output_type": "stream",
     "text": [
      "here is the shape of the array as a Python 'tuple'\n",
      "(4,)\n",
      "here is the number of rows in the array\n",
      "4\n",
      "here is the first item in the array, followed by the last (note conventions to access items\n",
      "0.1\n",
      "6.0\n",
      "..and here is the array in its entirety\n",
      "[0.1 3.  2.  6. ]\n"
     ]
    }
   ],
   "source": [
    "import numpy as np\n",
    "\n",
    "b = np.array([0.1, a, 2., a*2])\n",
    "print(\"here is the shape of the array as a Python 'tuple'\")\n",
    "print(b.shape)\n",
    "print(\"here is the number of rows in the array\")\n",
    "print(len(b))\n",
    "print(\"here is the first item in the array, followed by the last (note conventions to access items\")\n",
    "print(b[0])\n",
    "print(b[-1])\n",
    "print(\"..and here is the array in its entirety\")\n",
    "print(b)"
   ]
  },
  {
   "cell_type": "markdown",
   "id": "bdc7fe40-fbec-4220-899d-22165d363a2b",
   "metadata": {},
   "source": [
    "Now, let's create a matrix instead, which has got 2 dimensions and see..."
   ]
  },
  {
   "cell_type": "code",
   "execution_count": 6,
   "id": "3f3816fe-bba1-4f31-ace8-9b7725df2dd3",
   "metadata": {},
   "outputs": [
    {
     "name": "stdout",
     "output_type": "stream",
     "text": [
      "(2, 2)\n",
      "---\n",
      "2\n",
      "---\n",
      "[[1.   0.2 ]\n",
      " [0.1  0.75]]\n"
     ]
    }
   ],
   "source": [
    "d = np.array([[1.0, 0.2],[0.1, 0.75]])\n",
    "print(d.shape)\n",
    "print(\"---\")\n",
    "print(len(d))\n",
    "print(\"---\")\n",
    "print(d)"
   ]
  },
  {
   "cell_type": "markdown",
   "id": "37847097-1675-4282-97a8-a2689d027e49",
   "metadata": {},
   "source": [
    "## Pandas: stuff built on top of numpy and very useful on timeseries\n",
    "\n",
    "Now note that I import another library called Pandas and shortened pd.\n",
    "I then use the prior library to generate arrays (for whatever reason) and assign dates... then we have a timeseries that has some nice properties!"
   ]
  },
  {
   "cell_type": "code",
   "execution_count": 7,
   "id": "4d0c8274-c8fe-49b1-9664-e290bfcfde97",
   "metadata": {},
   "outputs": [
    {
     "data": {
      "text/plain": [
       "2021-06-30    13.63\n",
       "2021-07-31    13.96\n",
       "2021-08-31    14.29\n",
       "2021-09-30    14.62\n",
       "2021-10-31    14.95\n",
       "Freq: M, dtype: float64"
      ]
     },
     "execution_count": 7,
     "metadata": {},
     "output_type": "execute_result"
    }
   ],
   "source": [
    "import pandas as pd\n",
    "\n",
    "range_of_numbers = np.arange(0.1, 15, 0.33)\n",
    "index = pd.date_range(\"2018-01-01\", periods=len(range_of_numbers), freq=\"M\")\n",
    "series = pd.Series(range_of_numbers, index=index)\n",
    "series.tail()"
   ]
  },
  {
   "cell_type": "code",
   "execution_count": 8,
   "id": "f818fb17-4b24-43fe-a32c-f8f09f8341a1",
   "metadata": {},
   "outputs": [
    {
     "data": {
      "text/plain": [
       "7.525"
      ]
     },
     "execution_count": 8,
     "metadata": {},
     "output_type": "execute_result"
    }
   ],
   "source": [
    "series.mean()"
   ]
  },
  {
   "cell_type": "code",
   "execution_count": 12,
   "id": "34e570bd-8a5e-4c6f-9b31-b09882d7dcee",
   "metadata": {},
   "outputs": [
    {
     "data": {
      "text/plain": [
       "2021-06-30    11.815\n",
       "2021-07-31    12.145\n",
       "2021-08-31    12.475\n",
       "2021-09-30    12.805\n",
       "2021-10-31    13.135\n",
       "Freq: M, dtype: float64"
      ]
     },
     "execution_count": 12,
     "metadata": {},
     "output_type": "execute_result"
    }
   ],
   "source": [
    "series_rolling_mean_1y = series.rolling(window=12).mean()\n",
    "series_rolling_mean_1y.tail()"
   ]
  },
  {
   "cell_type": "markdown",
   "id": "cbd634e7-0e4f-4464-804a-b1f38b9d5f68",
   "metadata": {},
   "source": [
    "We now have a series that can do a LOT of stuff. Probably more than you will EVER need. We have some nice statistics on the whole series or some rolling windows of it.... Using the \"rolling\" function as above... Or you can also plot them directly and in the same chart. Note that I use a plot method embedded in the \"series\" object."
   ]
  },
  {
   "cell_type": "code",
   "execution_count": 14,
   "id": "1e8e10c4-24e2-45ed-b336-b1ae61fdd2c1",
   "metadata": {},
   "outputs": [
    {
     "data": {
      "image/png": "[encoded data removed]",
      "text/plain": [
       "<Figure size 432x288 with 1 Axes>"
      ]
     },
     "metadata": {
      "needs_background": "light"
     },
     "output_type": "display_data"
    }
   ],
   "source": [
    "ax = series.plot();\n",
    "series_rolling_mean_1y.plot(ax=ax);"
   ]
  },
  {
   "cell_type": "code",
   "execution_count": 15,
   "id": "6da51f0c-0628-4e88-a977-3dd219579e08",
   "metadata": {},
   "outputs": [
    {
     "data": {
      "text/plain": [
       "4.429463850174195"
      ]
     },
     "execution_count": 15,
     "metadata": {},
     "output_type": "execute_result"
    }
   ],
   "source": [
    "# standard deviation of the series for instance...\n",
    "series.std()"
   ]
  },
  {
   "cell_type": "code",
   "execution_count": 16,
   "id": "9065d91a-48b9-4545-806e-86cd54865bd4",
   "metadata": {},
   "outputs": [
    {
     "data": {
      "text/plain": [
       "0.49599379017982187"
      ]
     },
     "execution_count": 16,
     "metadata": {},
     "output_type": "execute_result"
    }
   ],
   "source": [
    "# % change and straight after it the standard deviation of the % change\n",
    "series.pct_change(periods=1).std()"
   ]
  },
  {
   "cell_type": "code",
   "execution_count": 18,
   "id": "03a0b8e4-13e7-48f3-859c-fb8a8bd06675",
   "metadata": {},
   "outputs": [
    {
     "data": {
      "text/plain": [
       "1.0"
      ]
     },
     "execution_count": 18,
     "metadata": {},
     "output_type": "execute_result"
    }
   ],
   "source": [
    "# correlating 2 series for whatever reason...forget that these 2 series are one the rolling mean of the other...\n",
    "# they can be any series... In this case the correlation is perfect of course...i.e. correlation is 1\n",
    "series.corr(series_rolling_mean_1y)"
   ]
  },
  {
   "cell_type": "markdown",
   "id": "91f00f9e-af51-4320-836e-01c3f31ffd05",
   "metadata": {},
   "source": [
    "There is **A LOT** in Pandas as a library. The only way to learn how to use it is to ... use it... there is of course documentation but I still go to the documentation regularly to refresh my mind on how to do some stuff that I would do less regularly."
   ]
  },
  {
   "cell_type": "markdown",
   "id": "fbada35f-661f-403a-bee0-7cd754b6d6e0",
   "metadata": {},
   "source": [
    "## Getting stuff from Fred and other platforms\n",
    "\n",
    "There are a few libraries that are useful to access data that is out there. While being public data, they may require what is called an API Key to access the data, but that API Key will likely be free (maybe in some cases with some limitation).\n",
    "One example of these libraries is the FredAPI library to access ... guess what... the Fred API. There are other tools to access Eurostat, the World Bank, OECD, and so on... they may differ a bit in the approach and the way you **get the data** but *normally* they are quite good at returning an object that is a Pandas Series or a Pandas Dataframe and that is then loaded with the power that Pandas dataseries have by default.\n",
    "We can have a look at the libraries as we do stuff as each one of them will be slightly different as mentioned."
   ]
  }
 ],
 "metadata": {
  "kernelspec": {
   "display_name": "Python 3",
   "language": "python",
   "name": "python3"
  },
  "language_info": {
   "codemirror_mode": {
    "name": "ipython",
    "version": 3
   },
   "file_extension": ".py",
   "mimetype": "text/x-python",
   "name": "python",
   "nbconvert_exporter": "python",
   "pygments_lexer": "ipython3",
   "version": "3.8.10"
  },
  "toc-autonumbering": false,
  "toc-showmarkdowntxt": false
 },
 "nbformat": 4,
 "nbformat_minor": 5
}
