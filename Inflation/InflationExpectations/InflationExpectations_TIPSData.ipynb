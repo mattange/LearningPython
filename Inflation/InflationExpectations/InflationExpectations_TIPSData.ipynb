{
 "cells": [
  {
   "cell_type": "code",
   "execution_count": 2,
   "id": "b0b0028e-b3a5-4c4b-adea-5a8ce49f16f8",
   "metadata": {},
   "outputs": [],
   "source": [
    "%matplotlib widget"
   ]
  },
  {
   "cell_type": "markdown",
   "id": "23ed992e-9176-452e-b063-e3e17181f6fb",
   "metadata": {},
   "source": [
    "Trying to replicate the following research piece:\n",
    "https://www.federalreserve.gov/econres/notes/feds-notes/index-of-common-inflation-expectations-20200902.htm\n",
    "Essentially to create an indicator of inflation expectations that reads through the noise of various forward looking metrics."
   ]
  },
  {
   "cell_type": "code",
   "execution_count": 3,
   "id": "818fd931-c28e-4221-b412-2faeac83763a",
   "metadata": {},
   "outputs": [],
   "source": [
    "import matplotlib.pyplot as plt\n",
    "\n",
    "import pandas as pd\n",
    "import numpy as np\n",
    "from fredapi import Fred as FredApi\n",
    "\n",
    "fred = FredApi(api_key='0dfcbb403eea7fee006f01e935be9216')"
   ]
  },
  {
   "cell_type": "markdown",
   "id": "21b36ea2-f4c1-4a80-9436-8d2987eef7df",
   "metadata": {},
   "source": [
    "#### TIPS data\n",
    "Probably the easiest solution here is to get data directly from the fred API.\n",
    "I only look at the 5y and the 5y5y measures as looking at 10y is equivalent to the 2 essentially.\n",
    "The 10y 10y is not really that relevant, i think, when compared to the rest of the metrics analysed (always over an horizon of 5y / 10y max).\n",
    "They use 4 market driven series on the inflation breakevens, I am going to use just 2 of these, as 1 of those they use is implied by 2 others as mentioned above.\n",
    "* 5y spot\n",
    "* 5y, 5y forward"
   ]
  },
  {
   "cell_type": "code",
   "execution_count": 9,
   "id": "1dbb4f76-35c9-4c9f-aa6d-e3853179f722",
   "metadata": {},
   "outputs": [],
   "source": [
    "be5y = fred.get_series_latest_release('T5YIE')\n",
    "be5y5y = fred.get_series_latest_release('T5YIFR')"
   ]
  },
  {
   "cell_type": "code",
   "execution_count": 12,
   "id": "6eea84ca-52d7-470b-9a41-c82d2735048d",
   "metadata": {},
   "outputs": [
    {
     "name": "stdout",
     "output_type": "stream",
     "text": [
      "<class 'pandas.core.frame.DataFrame'>\n",
      "DatetimeIndex: 229 entries, 2003-01-31 to 2022-01-31\n",
      "Freq: M\n",
      "Data columns (total 2 columns):\n",
      " #   Column     Non-Null Count  Dtype  \n",
      "---  ------     --------------  -----  \n",
      " 0   tips_5y    229 non-null    float64\n",
      " 1   tips_5y5y  229 non-null    float64\n",
      "dtypes: float64(2)\n",
      "memory usage: 5.4 KB\n"
     ]
    }
   ],
   "source": [
    "be5y_monthly = be5y.resample('M').mean()\n",
    "be5y5y_monthly = be5y5y.resample('M').mean()\n",
    "tips_dataset = pd.DataFrame(columns=[\"tips_5y\",\"tips_5y5y\"], index=be5y_monthly.index)\n",
    "tips_dataset[\"tips_5y\"] = be5y_monthly.to_numpy()\n",
    "tips_dataset[\"tips_5y5y\"] = be5y5y_monthly.to_numpy()\n",
    "tips_dataset.info()"
   ]
  },
  {
   "cell_type": "code",
   "execution_count": 14,
   "id": "7359a7ae-de39-401d-b52b-2bc84acaee47",
   "metadata": {},
   "outputs": [
    {
     "data": {
      "text/html": [
       "<div>\n",
       "<style scoped>\n",
       "    .dataframe tbody tr th:only-of-type {\n",
       "        vertical-align: middle;\n",
       "    }\n",
       "\n",
       "    .dataframe tbody tr th {\n",
       "        vertical-align: top;\n",
       "    }\n",
       "\n",
       "    .dataframe thead th {\n",
       "        text-align: right;\n",
       "    }\n",
       "</style>\n",
       "<table border=\"1\" class=\"dataframe\">\n",
       "  <thead>\n",
       "    <tr style=\"text-align: right;\">\n",
       "      <th></th>\n",
       "      <th>tips_5y</th>\n",
       "      <th>tips_5y5y</th>\n",
       "    </tr>\n",
       "  </thead>\n",
       "  <tbody>\n",
       "    <tr>\n",
       "      <th>2021-09-30</th>\n",
       "      <td>2.496667</td>\n",
       "      <td>2.191905</td>\n",
       "    </tr>\n",
       "    <tr>\n",
       "      <th>2021-10-31</th>\n",
       "      <td>2.745000</td>\n",
       "      <td>2.325000</td>\n",
       "    </tr>\n",
       "    <tr>\n",
       "      <th>2021-11-30</th>\n",
       "      <td>2.982500</td>\n",
       "      <td>2.249500</td>\n",
       "    </tr>\n",
       "    <tr>\n",
       "      <th>2021-12-31</th>\n",
       "      <td>2.749091</td>\n",
       "      <td>2.167273</td>\n",
       "    </tr>\n",
       "    <tr>\n",
       "      <th>2022-01-31</th>\n",
       "      <td>2.848571</td>\n",
       "      <td>2.197143</td>\n",
       "    </tr>\n",
       "  </tbody>\n",
       "</table>\n",
       "</div>"
      ],
      "text/plain": [
       "             tips_5y  tips_5y5y\n",
       "2021-09-30  2.496667   2.191905\n",
       "2021-10-31  2.745000   2.325000\n",
       "2021-11-30  2.982500   2.249500\n",
       "2021-12-31  2.749091   2.167273\n",
       "2022-01-31  2.848571   2.197143"
      ]
     },
     "execution_count": 14,
     "metadata": {},
     "output_type": "execute_result"
    }
   ],
   "source": [
    "tips_dataset.tail()"
   ]
  },
  {
   "cell_type": "code",
   "execution_count": 15,
   "id": "3445a0f1-1764-49ca-a240-05468eef7972",
   "metadata": {},
   "outputs": [],
   "source": [
    "tips_dataset.to_pickle('tips_dataset.pd.pkl')"
   ]
  }
 ],
 "metadata": {
  "kernelspec": {
   "display_name": "Python 3 (ipykernel)",
   "language": "python",
   "name": "python3"
  },
  "language_info": {
   "codemirror_mode": {
    "name": "ipython",
    "version": 3
   },
   "file_extension": ".py",
   "mimetype": "text/x-python",
   "name": "python",
   "nbconvert_exporter": "python",
   "pygments_lexer": "ipython3",
   "version": "3.9.6"
  }
 },
 "nbformat": 4,
 "nbformat_minor": 5
}
