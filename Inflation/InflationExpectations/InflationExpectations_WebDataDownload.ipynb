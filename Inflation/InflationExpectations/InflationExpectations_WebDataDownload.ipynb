{
 "cells": [
  {
   "cell_type": "markdown",
   "id": "32e07eac-7735-41ea-bf40-163bd24d4774",
   "metadata": {},
   "source": [
    "The small script below downloads automatically the most up to date information from:\n",
    "\n",
    "- the Inflation Expectations surveys of the Michigan Fed\n",
    "- the mean forecast of the Survey of the Professional Forecasters\n",
    "\n",
    "The csv/xlsx files are then saved and can be used in the related Python file to study and update the related datasets.\n",
    "The filenames used here should be the same ones referred to in the related studies."
   ]
  },
  {
   "cell_type": "code",
   "execution_count": 1,
   "id": "e79d0039-50b4-4eaa-ba18-2381bf804d11",
   "metadata": {},
   "outputs": [],
   "source": [
    "import requests\n",
    "s = requests.Session()"
   ]
  },
  {
   "cell_type": "code",
   "execution_count": 2,
   "id": "b4094515-e5f8-46e5-9f9f-3c6a4ad9e5d8",
   "metadata": {},
   "outputs": [],
   "source": [
    "# Michigan dataset\n",
    "# define the basic URL, the tables to download\n",
    "# and a few standard parameters for the request\n",
    "url = 'https://data.sca.isr.umich.edu/data-archive/mine.php'\n",
    "root_filename = 'sca_table_'\n",
    "s.get(url);\n",
    "\n",
    "short_term_expectations_table = '32'\n",
    "medium_term_expectations_table = '33'\n",
    "payload = {\n",
    "    'table': None,\n",
    "    'year': '1978',\n",
    "    'qorm': 'M',\n",
    "    'order': 'asc',\n",
    "    'format': 'Comma-Separated+(CSV)'\n",
    "}\n",
    "headers = {}\n",
    "\n",
    "for table in [short_term_expectations_table, medium_term_expectations_table]:\n",
    "    payload.update({'table': table})\n",
    "    res = s.post(url, data=payload, headers=headers)\n",
    "    if res.status_code == 200:\n",
    "        filename =  root_filename + table + \".csv\"\n",
    "        with open(filename, mode='wb') as file:\n",
    "            file.write(res.content)"
   ]
  },
  {
   "cell_type": "code",
   "execution_count": 3,
   "id": "c58d5d9d-a196-4398-b997-55abdfdd46b9",
   "metadata": {},
   "outputs": [],
   "source": [
    "# SPF dataset\n",
    "url = 'https://www.philadelphiafed.org/-/media/frbp/assets/surveys-and-data/survey-of-professional-forecasters/historical-data/meanlevel.xlsx'\n",
    "spf_data_filename = 'spf_meanLevel.xlsx'\n",
    "res = s.get(url)\n",
    "if res.status_code == 200:\n",
    "    filename =  spf_data_filename\n",
    "    with open(filename, mode='wb') as file:\n",
    "        file.write(res.content)"
   ]
  }
 ],
 "metadata": {
  "kernelspec": {
   "display_name": "Python 3 (ipykernel)",
   "language": "python",
   "name": "python3"
  },
  "language_info": {
   "codemirror_mode": {
    "name": "ipython",
    "version": 3
   },
   "file_extension": ".py",
   "mimetype": "text/x-python",
   "name": "python",
   "nbconvert_exporter": "python",
   "pygments_lexer": "ipython3",
   "version": "3.10.8"
  }
 },
 "nbformat": 4,
 "nbformat_minor": 5
}
