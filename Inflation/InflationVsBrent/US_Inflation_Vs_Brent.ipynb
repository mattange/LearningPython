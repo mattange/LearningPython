{
 "cells": [
  {
   "cell_type": "code",
   "execution_count": 35,
   "id": "567d4e55-166c-40f2-aa2f-6117835ab1ca",
   "metadata": {},
   "outputs": [],
   "source": [
    "%matplotlib widget"
   ]
  },
  {
   "cell_type": "code",
   "execution_count": 2,
   "id": "c3ac2bf8-e28e-459e-85c5-8d0e85c5318a",
   "metadata": {},
   "outputs": [],
   "source": [
    "import matplotlib.pyplot as plt\n",
    "\n",
    "import pandas as pd\n",
    "import numpy as np\n",
    "from fredapi import Fred as FredApi\n",
    "\n",
    "fred = FredApi(api_key='0dfcbb403eea7fee006f01e935be9216')\n",
    "\n",
    "cpiausl = fred.get_series_latest_release('CPIAUCSL')\n",
    "brent_daily = fred.get_series_latest_release('DCOILBRENTEU')"
   ]
  },
  {
   "cell_type": "code",
   "execution_count": 3,
   "id": "d90407c1-93b0-46a8-8dd9-84bf9bb3b28c",
   "metadata": {},
   "outputs": [
    {
     "data": {
      "text/plain": [
       "2021-07-01    272.265\n",
       "2021-08-01    273.012\n",
       "2021-09-01    274.138\n",
       "2021-10-01    276.724\n",
       "2021-11-01    278.880\n",
       "dtype: float64"
      ]
     },
     "execution_count": 3,
     "metadata": {},
     "output_type": "execute_result"
    }
   ],
   "source": [
    "# verify what the latest number available is\n",
    "cpiausl.tail()"
   ]
  },
  {
   "cell_type": "code",
   "execution_count": 10,
   "id": "d8adf235-1ef5-4974-87f3-f905eabbc686",
   "metadata": {},
   "outputs": [],
   "source": [
    "# the brent series is daily - so i resample monthly and take an average\n",
    "brent = brent_daily.resample('M').mean()"
   ]
  },
  {
   "cell_type": "code",
   "execution_count": 11,
   "id": "3f3e22d5-f6a3-4b9a-ab7e-9b95807c9fe0",
   "metadata": {},
   "outputs": [
    {
     "data": {
      "text/plain": [
       "2021-09-30    74.488636\n",
       "2021-10-31    83.538095\n",
       "2021-11-30    81.050000\n",
       "2021-12-31    74.170476\n",
       "2022-01-31    78.250000\n",
       "Freq: M, dtype: float64"
      ]
     },
     "execution_count": 11,
     "metadata": {},
     "output_type": "execute_result"
    }
   ],
   "source": [
    "# see where the Brent series stops first (only month now is relevant)\n",
    "brent.tail()"
   ]
  },
  {
   "cell_type": "code",
   "execution_count": 13,
   "id": "32b5626f-0f9d-41bf-99c2-1667b4b4e6b1",
   "metadata": {},
   "outputs": [
    {
     "data": {
      "text/plain": [
       "2021-09-30    74.488636\n",
       "2021-10-31    83.538095\n",
       "2021-11-30    81.050000\n",
       "2021-12-31    74.170476\n",
       "2022-01-31    78.250000\n",
       "Freq: M, dtype: float64"
      ]
     },
     "execution_count": 13,
     "metadata": {},
     "output_type": "execute_result"
    }
   ],
   "source": [
    "# it's useful to make sure that Python understands the frequency being \"monthly\" even though data\n",
    "# don't necessarily show this. Resampling is a way around it and selecting \"last\" as the value of the\n",
    "# resampling (there is only 1 value)\n",
    "# compare the indices of the prior version of \"brent\" to this version of \"brent\" (note reassignment)\n",
    "brent = brent.resample('M').last()\n",
    "brent_yoy = brent.pct_change(periods=12) * 100.\n",
    "brent.tail()"
   ]
  },
  {
   "cell_type": "code",
   "execution_count": 7,
   "id": "40b79e70-9b62-4d02-909a-1fd7cc23b1ef",
   "metadata": {},
   "outputs": [
    {
     "data": {
      "text/plain": [
       "2021-01-31    54.774000\n",
       "2021-02-28    62.276500\n",
       "2021-03-31    65.410000\n",
       "2021-04-30    64.806500\n",
       "2021-05-31    68.534211\n",
       "2021-06-30    73.164091\n",
       "2021-07-31    75.165909\n",
       "2021-08-31    70.747143\n",
       "2021-09-30    74.488636\n",
       "2021-10-31    83.538095\n",
       "2021-11-30    81.050000\n",
       "2021-12-31    74.170476\n",
       "2022-01-31    78.250000\n",
       "2022-02-28    78.250000\n",
       "2022-03-31    78.250000\n",
       "2022-04-30    78.250000\n",
       "2022-05-31    78.250000\n",
       "2022-06-30    78.250000\n",
       "2022-07-31    78.250000\n",
       "2022-08-31    78.250000\n",
       "2022-09-30    78.250000\n",
       "2022-10-31    78.250000\n",
       "2022-11-30    78.250000\n",
       "2022-12-31    78.250000\n",
       "Freq: M, dtype: float64"
      ]
     },
     "execution_count": 7,
     "metadata": {},
     "output_type": "execute_result"
    }
   ],
   "source": [
    "# now extend the brent timeseries with a constant one\n",
    "new_index = pd.date_range(start=brent.index[-1], freq='M', periods=12)\n",
    "brent_projection = pd.Series(data=brent.iloc[-1], index=new_index)\n",
    "# concatenate the two brent timeseries one to the other\n",
    "brent_extended = pd.concat([brent, brent_projection.iloc[1:]])\n",
    "brent_extended.tail(24)"
   ]
  },
  {
   "cell_type": "code",
   "execution_count": 8,
   "id": "f43825fb-dcf2-41f7-bae2-8affdc8ac6cb",
   "metadata": {},
   "outputs": [
    {
     "data": {
      "text/plain": [
       "2022-01-31    42.859751\n",
       "2022-02-28    25.649322\n",
       "2022-03-31    19.630026\n",
       "2022-04-30    20.744061\n",
       "2022-05-31    14.176554\n",
       "2022-06-30     6.951373\n",
       "2022-07-31     4.103045\n",
       "2022-08-31    10.605173\n",
       "2022-09-30     5.049580\n",
       "2022-10-31    -6.330160\n",
       "2022-11-30    -3.454658\n",
       "2022-12-31     5.500199\n",
       "Freq: M, dtype: float64"
      ]
     },
     "execution_count": 8,
     "metadata": {},
     "output_type": "execute_result"
    }
   ],
   "source": [
    "# make a yoy variation as a % change for the CPI\n",
    "# note the change in index as well here... same as above\n",
    "cpiausl = cpiausl.resample('M').last()\n",
    "cpiausl_yoy = cpiausl.pct_change(periods=12) * 100.\n",
    "\n",
    "# make a yoy variation as a % change for the extended brent projection\n",
    "# and then check the numbers vs. what you have above to see if it makes\n",
    "# sense (good practice!)\n",
    "brent_extended_yoy = brent_extended.pct_change(periods=12) * 100.\n",
    "brent_extended_yoy.tail(12)"
   ]
  },
  {
   "cell_type": "code",
   "execution_count": 37,
   "id": "633420f5-4d52-463d-8738-16d2c5581cf3",
   "metadata": {},
   "outputs": [
    {
     "data": {
      "application/vnd.jupyter.widget-view+json": {
       "model_id": "0eda197f8d7c45c78df62cc16cb92909",
       "version_major": 2,
       "version_minor": 0
      },
      "text/plain": [
       "Canvas(toolbar=Toolbar(toolitems=[('Home', 'Reset original view', 'home', 'home'), ('Back', 'Back to previous …"
      ]
     },
     "metadata": {},
     "output_type": "display_data"
    }
   ],
   "source": [
    "# plot and set labels of the figure\n",
    "START_YEAR = '2000'\n",
    "fig, ax = plt.subplots()\n",
    "cpiausl_yoy.loc[START_YEAR:].plot(ax=ax, linewidth=5);\n",
    "ax2 = brent_extended_yoy.loc[START_YEAR:].plot(secondary_y=True, ax=ax);\n",
    "ax.grid(True);\n",
    "ax.set_ylabel('CPI YoY (%)');\n",
    "ax2.set_ylabel('Brent YoY (%)');"
   ]
  },
  {
   "cell_type": "code",
   "execution_count": 42,
   "id": "7a102179-bbb4-4306-a714-e91c508a9200",
   "metadata": {},
   "outputs": [
    {
     "data": {
      "application/vnd.jupyter.widget-view+json": {
       "model_id": "4d644901694e4e4aaa086c5b569712fc",
       "version_major": 2,
       "version_minor": 0
      },
      "text/plain": [
       "Canvas(toolbar=Toolbar(toolitems=[('Home', 'Reset original view', 'home', 'home'), ('Back', 'Back to previous …"
      ]
     },
     "metadata": {},
     "output_type": "display_data"
    }
   ],
   "source": [
    "# now let's try to cross-correlate these 2 indicators to see the lags at which there is some correlation \n",
    "# and how big that is. To do so, we only look at the real data available, not the extended brent series.\n",
    "import statsmodels.tsa.stattools as smtsast\n",
    "common_dates = brent_yoy.loc[~brent_yoy.isna()].index.intersection(cpiausl_yoy.index)\n",
    "cc = smtsast.ccf(brent_yoy.loc[common_dates], cpiausl_yoy.loc[common_dates])\n",
    "cross_correl_function = pd.Series(cc[:60])\n",
    "fig, ax = plt.subplots()\n",
    "cross_correl_function.plot(ax=ax, linewidth=1, style='o--');\n",
    "ax.grid(True);\n",
    "ax.set_xlabel('lag (months) CPI vs. Brent');\n",
    "ax.set_ylabel('cross correlation function');"
   ]
  }
 ],
 "metadata": {
  "kernelspec": {
   "display_name": "Python 3 (ipykernel)",
   "language": "python",
   "name": "python3"
  },
  "language_info": {
   "codemirror_mode": {
    "name": "ipython",
    "version": 3
   },
   "file_extension": ".py",
   "mimetype": "text/x-python",
   "name": "python",
   "nbconvert_exporter": "python",
   "pygments_lexer": "ipython3",
   "version": "3.9.6"
  }
 },
 "nbformat": 4,
 "nbformat_minor": 5
}
